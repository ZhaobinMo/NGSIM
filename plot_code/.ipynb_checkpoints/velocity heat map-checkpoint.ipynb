{
 "cells": [
  {
   "cell_type": "code",
   "execution_count": null,
   "metadata": {},
   "outputs": [],
   "source": [
    "import matplotlib.pyplot as plt\n",
    "from matplotlib import colors\n",
    "import numpy as np\n",
    "from matplotlib.colors import LinearSegmentedColormap\n",
    "\n",
    "#data = np.random.rand(10, 10) * 20\n",
    "data = mapMat\n",
    "\n",
    "# create discrete colormap\n",
    "#cmap = colors.ListedColormap(['purple', 'grey' ,'yellow','red'])\n",
    "def heatmap(data):\n",
    "    colors = [(1,0,0), (0,1,0)] # Red Green\n",
    "    n_bins = 100 # Discretizes the interpolation into bins\n",
    "    cmap_name = 'traffic_heat_list'\n",
    "    cmap = LinearSegmentedColormap.from_list(cmap_name, colors, N=n_bins)\n",
    "    #cmap = colors.ListedColormap(['green','red'])\n",
    "    #bounds = [0,20,40,60,80]\n",
    "    #norm = colors.BoundaryNorm(bounds, cmap.N)\n",
    "\n",
    "    fig, ax = plt.subplots(1,1,figsize = (20,20))\n",
    "    im = ax.imshow(data, cmap=cmap, interpolation = 'nearest')\n",
    "\n",
    "    # draw gridlines\n",
    "    # ax.grid(which='major', axis='both', linestyle='-', color='k', linewidth=2)\n",
    "    ax.set_xticks(np.arange(-.5, 100,20))\n",
    "    ax.set_xticklabels(np.arange(0*27, 100*27, 20*27), fontsize = 16);\n",
    "    ax.set_xlabel('time/s',fontsize = 16)\n",
    "\n",
    "\n",
    "    ax.set_yticks(np.arange(-.5, 50, 10));\n",
    "    ax.set_yticklabels(np.arange(0*13, 50*13, 10*13), fontsize = 16);\n",
    "    ax.set_ylabel('distance/m',fontsize = 16)\n",
    "\n",
    "    ax.set_ylim(ax.get_ylim()[::-1])\n",
    "    fig.colorbar(im, ax=ax)\n",
    "\n",
    "    #plt.show()\n",
    "    plt.savefig('v_map_3.png',dpi = 300)\n",
    "heatmap(data)"
   ]
  }
 ],
 "metadata": {
  "kernelspec": {
   "display_name": "Python 3",
   "language": "python",
   "name": "python3"
  },
  "language_info": {
   "codemirror_mode": {
    "name": "ipython",
    "version": 3
   },
   "file_extension": ".py",
   "mimetype": "text/x-python",
   "name": "python",
   "nbconvert_exporter": "python",
   "pygments_lexer": "ipython3",
   "version": "3.6.4"
  }
 },
 "nbformat": 4,
 "nbformat_minor": 2
}
